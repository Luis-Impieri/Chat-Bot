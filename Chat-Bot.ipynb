{
 "cells": [
  {
   "cell_type": "code",
   "execution_count": 2,
   "id": "f1331239",
   "metadata": {},
   "outputs": [],
   "source": [
    "import openai\n",
    "\n",
    "openai.api_key = \"Chave da OPENAI valida aqui\"\n"
   ]
  },
  {
   "cell_type": "code",
   "execution_count": 4,
   "id": "ccb922e7",
   "metadata": {},
   "outputs": [],
   "source": [
    "from tkinter import *\n",
    "\n",
    "def chatbot(prompt):\n",
    "    response = openai.ChatCompletion.create(\n",
    "        model = 'gpt-3.5-turbo',\n",
    "        messages = [{\"role\": \"user\", \"content\": prompt}]\n",
    "    )\n",
    "    \n",
    "    return response.choices[0].message.content.strip()\n",
    "\n",
    "def send_message():\n",
    "    user_input = user_entry.get()\n",
    "    user_entry.delete(0, END)\n",
    "\n",
    "    chat.insert(END, \"Você: \" + user_input + \"\\n\\n\")\n",
    "    chat.tag_config(\"user\", foreground=\"blue\")\n",
    "\n",
    "    response = chatbot(user_input)\n",
    "    chat.insert(END, \"Meu bot: \" + response + \"\\n\\n\", \"bot\")\n",
    "    chat.tag_config(\"bot\", foreground=\"red\")\n",
    "\n",
    "if __name__ == \"__main__\":\n",
    "    window = Tk()\n",
    "    window.title(\"Chat com o Bot\")\n",
    "\n",
    "    chat = Text(window)\n",
    "    chat.pack()\n",
    "\n",
    "    user_entry = Entry(window)\n",
    "    user_entry.bind(\"<Return>\", lambda event: send_message())\n",
    "    user_entry.pack()\n",
    "\n",
    "    send_button = Button(window, text=\"Enviar\", command=send_message)\n",
    "    send_button.pack()\n",
    "\n",
    "    window.mainloop()"
   ]
  },
  {
   "cell_type": "code",
   "execution_count": null,
   "id": "ce744b76",
   "metadata": {},
   "outputs": [],
   "source": []
  }
 ],
 "metadata": {
  "kernelspec": {
   "display_name": "Python 3 (ipykernel)",
   "language": "python",
   "name": "python3"
  },
  "language_info": {
   "codemirror_mode": {
    "name": "ipython",
    "version": 3
   },
   "file_extension": ".py",
   "mimetype": "text/x-python",
   "name": "python",
   "nbconvert_exporter": "python",
   "pygments_lexer": "ipython3",
   "version": "3.11.5"
  }
 },
 "nbformat": 4,
 "nbformat_minor": 5
}
